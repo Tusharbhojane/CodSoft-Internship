{
 "cells": [
  {
   "cell_type": "code",
   "execution_count": 4,
   "id": "67732b2a",
   "metadata": {},
   "outputs": [
    {
     "data": {
      "text/plain": [
       "'C:\\\\Users\\\\Tushar'"
      ]
     },
     "execution_count": 4,
     "metadata": {},
     "output_type": "execute_result"
    }
   ],
   "source": [
    "import os\n",
    "os.getcwd()"
   ]
  },
  {
   "cell_type": "code",
   "execution_count": 3,
   "id": "65fb658b",
   "metadata": {},
   "outputs": [],
   "source": [
    "import tkinter as tk\n",
    "\n",
    "def add_task():\n",
    "    task = task_entry.get()\n",
    "    if task:\n",
    "        task_listbox.insert(tk.END, task)\n",
    "        task_entry.delete(0, tk.END)\n",
    "\n",
    "def delete_task():\n",
    "    try:\n",
    "        selected_task_index = task_listbox.curselection()[0]\n",
    "        task_listbox.delete(selected_task_index)\n",
    "    except IndexError:\n",
    "        pass\n",
    "\n",
    "def edit_task():\n",
    "    try:\n",
    "        selected_task_index = task_listbox.curselection()[0]\n",
    "        task_entry.delete(0, tk.END)\n",
    "        task_entry.insert(0, task_listbox.get(selected_task_index))\n",
    "        delete_task()\n",
    "    except IndexError:\n",
    "        pass\n",
    "\n",
    "# Create the main window\n",
    "root = tk.Tk()\n",
    "\n",
    "root.title(\"To-Do List\")\n",
    "\n",
    "# Task entry field\n",
    "task_entry = tk.Entry(root, width=40)\n",
    "task_entry.pack(pady=10)\n",
    "\n",
    "# Buttons: Add, Edit, Delete\n",
    "add_button = tk.Button(root, text=\"Add Task\", width=20, command=add_task)\n",
    "edit_button = tk.Button(root, text=\"Edit Task\", width=20, command=edit_task)\n",
    "delete_button = tk.Button(root, text=\"Delete Task\", width=20, command=delete_task)\n",
    "add_button.pack()\n",
    "edit_button.pack()\n",
    "delete_button.pack()\n",
    "\n",
    "# Listbox to display tasks\n",
    "task_listbox = tk.Listbox(root, width=40)\n",
    "task_listbox.pack()\n",
    "\n",
    "# Run the application\n",
    "root.mainloop()\n"
   ]
  },
  {
   "cell_type": "code",
   "execution_count": null,
   "id": "01dc3470",
   "metadata": {},
   "outputs": [],
   "source": []
  }
 ],
 "metadata": {
  "kernelspec": {
   "display_name": "Python 3 (ipykernel)",
   "language": "python",
   "name": "python3"
  },
  "language_info": {
   "codemirror_mode": {
    "name": "ipython",
    "version": 3
   },
   "file_extension": ".py",
   "mimetype": "text/x-python",
   "name": "python",
   "nbconvert_exporter": "python",
   "pygments_lexer": "ipython3",
   "version": "3.10.9"
  }
 },
 "nbformat": 4,
 "nbformat_minor": 5
}
